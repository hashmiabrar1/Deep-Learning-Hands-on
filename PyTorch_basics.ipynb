{
  "nbformat": 4,
  "nbformat_minor": 0,
  "metadata": {
    "colab": {
      "name": "PyTorch_basics.ipynb",
      "provenance": [],
      "authorship_tag": "ABX9TyO4Bw1fSIGPGEXVMjIZdpgZ",
      "include_colab_link": true
    },
    "kernelspec": {
      "name": "python3",
      "display_name": "Python 3"
    }
  },
  "cells": [
    {
      "cell_type": "markdown",
      "metadata": {
        "id": "view-in-github",
        "colab_type": "text"
      },
      "source": [
        "<a href=\"https://colab.research.google.com/github/hashmiabrar1/Deep-Learning-Hands-on/blob/main/PyTorch_basics.ipynb\" target=\"_parent\"><img src=\"https://colab.research.google.com/assets/colab-badge.svg\" alt=\"Open In Colab\"/></a>"
      ]
    },
    {
      "cell_type": "code",
      "metadata": {
        "id": "uG9p1hNX2Cyz"
      },
      "source": [
        "import torch"
      ],
      "execution_count": null,
      "outputs": []
    },
    {
      "cell_type": "code",
      "metadata": {
        "id": "OEfRmExh2Mv1",
        "outputId": "bd40f2d2-61d2-4ecb-a7a3-c5f93561d918",
        "colab": {
          "base_uri": "https://localhost:8080/",
          "height": 34
        }
      },
      "source": [
        "print(torch.__version__)"
      ],
      "execution_count": null,
      "outputs": [
        {
          "output_type": "stream",
          "text": [
            "1.6.0+cu101\n"
          ],
          "name": "stdout"
        }
      ]
    },
    {
      "cell_type": "code",
      "metadata": {
        "id": "GlUCaYOZ2M_b",
        "outputId": "5d53b124-8f8b-4cc4-f3dd-a0086ff76838",
        "colab": {
          "base_uri": "https://localhost:8080/",
          "height": 51
        }
      },
      "source": [
        "#Tensors are multidimensional array. Same like numpy array\n",
        "t_array=torch.Tensor([[1,2],[4,5]])\n",
        "t_array"
      ],
      "execution_count": null,
      "outputs": [
        {
          "output_type": "execute_result",
          "data": {
            "text/plain": [
              "tensor([[1., 2.],\n",
              "        [4., 5.]])"
            ]
          },
          "metadata": {
            "tags": []
          },
          "execution_count": 4
        }
      ]
    },
    {
      "cell_type": "code",
      "metadata": {
        "id": "iPOr54HY2NJL",
        "outputId": "15f7a965-1f2f-4696-f6d1-77450b3fe187",
        "colab": {
          "base_uri": "https://localhost:8080/",
          "height": 34
        }
      },
      "source": [
        "tensor_uninitialized=torch.Tensor(3,3)\n",
        "tensor_uninitialized\n",
        "torch.numel(tensor_uninitialized)"
      ],
      "execution_count": null,
      "outputs": [
        {
          "output_type": "execute_result",
          "data": {
            "text/plain": [
              "9"
            ]
          },
          "metadata": {
            "tags": []
          },
          "execution_count": 7
        }
      ]
    },
    {
      "cell_type": "code",
      "metadata": {
        "id": "Q_NE5kqcPerV",
        "outputId": "b401901a-5ab6-49cf-9ff2-5151e5061e85",
        "colab": {
          "base_uri": "https://localhost:8080/",
          "height": 102
        }
      },
      "source": [
        "#Tensor with uninitialized random values of a specific data type.\n",
        "tensor_int=torch.randn(5,3).type(torch.IntTensor)\n",
        "tensor_int"
      ],
      "execution_count": null,
      "outputs": [
        {
          "output_type": "execute_result",
          "data": {
            "text/plain": [
              "tensor([[ 0, -1,  0],\n",
              "        [ 0,  1,  0],\n",
              "        [ 0,  2,  0],\n",
              "        [-2,  0,  0],\n",
              "        [ 0,  0,  0]], dtype=torch.int32)"
            ]
          },
          "metadata": {
            "tags": []
          },
          "execution_count": 9
        }
      ]
    },
    {
      "cell_type": "code",
      "metadata": {
        "id": "Z3lpxM9LPexj",
        "outputId": "5e570e8d-fff1-4273-a961-05bc2d6fd211",
        "colab": {
          "base_uri": "https://localhost:8080/",
          "height": 34
        }
      },
      "source": [
        "#Initialize with ones or zeroes\n",
        "tensor_ones=torch.ones(10)\n",
        "tensor_ones"
      ],
      "execution_count": null,
      "outputs": [
        {
          "output_type": "execute_result",
          "data": {
            "text/plain": [
              "tensor([1., 1., 1., 1., 1., 1., 1., 1., 1., 1.])"
            ]
          },
          "metadata": {
            "tags": []
          },
          "execution_count": 10
        }
      ]
    },
    {
      "cell_type": "code",
      "metadata": {
        "id": "ckV6DilQPevp",
        "outputId": "60e71f09-4626-4288-8cf7-b8858aca8707",
        "colab": {
          "base_uri": "https://localhost:8080/",
          "height": 68
        }
      },
      "source": [
        "#Get square matrix\n",
        "tensor_sq=torch.eye(3)\n",
        "tensor_sq"
      ],
      "execution_count": null,
      "outputs": [
        {
          "output_type": "execute_result",
          "data": {
            "text/plain": [
              "tensor([[1., 0., 0.],\n",
              "        [0., 1., 0.],\n",
              "        [0., 0., 1.]])"
            ]
          },
          "metadata": {
            "tags": []
          },
          "execution_count": 11
        }
      ]
    },
    {
      "cell_type": "code",
      "metadata": {
        "id": "5s_4wl3pPeob",
        "outputId": "22490120-b387-44c2-fb2b-1017f827ff01",
        "colab": {
          "base_uri": "https://localhost:8080/",
          "height": 68
        }
      },
      "source": [
        "#To fill all records with a particular value\n",
        "tensor_new=torch.rand(3,3)\n",
        "tensor_new.fill_(4)\n",
        "tensor_new"
      ],
      "execution_count": null,
      "outputs": [
        {
          "output_type": "execute_result",
          "data": {
            "text/plain": [
              "tensor([[4., 4., 4.],\n",
              "        [4., 4., 4.],\n",
              "        [4., 4., 4.]])"
            ]
          },
          "metadata": {
            "tags": []
          },
          "execution_count": 4
        }
      ]
    },
    {
      "cell_type": "code",
      "metadata": {
        "id": "bWKLNM95p1Kh",
        "outputId": "8478a69c-04ee-45c6-9221-40e305d472a9",
        "colab": {
          "base_uri": "https://localhost:8080/",
          "height": 68
        }
      },
      "source": [
        "#To types of adding to the tensor. Below way of adding doesn't change the existing tensor. This is out of place addition\n",
        "tensor_new.add(3)"
      ],
      "execution_count": null,
      "outputs": [
        {
          "output_type": "execute_result",
          "data": {
            "text/plain": [
              "tensor([[7., 7., 7.],\n",
              "        [7., 7., 7.],\n",
              "        [7., 7., 7.]])"
            ]
          },
          "metadata": {
            "tags": []
          },
          "execution_count": 5
        }
      ]
    },
    {
      "cell_type": "code",
      "metadata": {
        "id": "zKahNbfnp1aZ",
        "outputId": "c78cd3ae-b852-4009-9484-56a0f038d9da",
        "colab": {
          "base_uri": "https://localhost:8080/",
          "height": 68
        }
      },
      "source": [
        "tensor_new"
      ],
      "execution_count": null,
      "outputs": [
        {
          "output_type": "execute_result",
          "data": {
            "text/plain": [
              "tensor([[4., 4., 4.],\n",
              "        [4., 4., 4.],\n",
              "        [4., 4., 4.]])"
            ]
          },
          "metadata": {
            "tags": []
          },
          "execution_count": 6
        }
      ]
    },
    {
      "cell_type": "code",
      "metadata": {
        "id": "xGzoVYYqp1jC",
        "outputId": "46b118dd-1429-4c53-8383-5f96cadc530f",
        "colab": {
          "base_uri": "https://localhost:8080/",
          "height": 68
        }
      },
      "source": [
        "#This is in place addition and it changes the value of the tensor.\n",
        "tensor_new.add_(3)\n",
        "tensor_new"
      ],
      "execution_count": null,
      "outputs": [
        {
          "output_type": "execute_result",
          "data": {
            "text/plain": [
              "tensor([[7., 7., 7.],\n",
              "        [7., 7., 7.],\n",
              "        [7., 7., 7.]])"
            ]
          },
          "metadata": {
            "tags": []
          },
          "execution_count": 7
        }
      ]
    },
    {
      "cell_type": "code",
      "metadata": {
        "id": "-rb3zR-Xp1Gz",
        "outputId": "5b6f914a-171a-4b65-fb43-cc88b8b3fa45",
        "colab": {
          "base_uri": "https://localhost:8080/",
          "height": 34
        }
      },
      "source": [
        "#Numpy operations\n",
        "import numpy as np\n",
        "np_array=np.array([1,2,3])\n",
        "np_array"
      ],
      "execution_count": null,
      "outputs": [
        {
          "output_type": "execute_result",
          "data": {
            "text/plain": [
              "array([1, 2, 3])"
            ]
          },
          "metadata": {
            "tags": []
          },
          "execution_count": 8
        }
      ]
    },
    {
      "cell_type": "code",
      "metadata": {
        "id": "q7hBMUdMEyXA",
        "outputId": "add980e6-0515-4000-c566-94e29012f5c7",
        "colab": {
          "base_uri": "https://localhost:8080/",
          "height": 34
        }
      },
      "source": [
        "#Creating tensor from above np array\n",
        "tensor=torch.from_numpy(np_array)\n",
        "tensor"
      ],
      "execution_count": null,
      "outputs": [
        {
          "output_type": "execute_result",
          "data": {
            "text/plain": [
              "tensor([1, 2, 3])"
            ]
          },
          "metadata": {
            "tags": []
          },
          "execution_count": 9
        }
      ]
    },
    {
      "cell_type": "code",
      "metadata": {
        "id": "hki9lnomEyh8",
        "outputId": "7915dbf0-1f6c-443a-8fde-a5d646267271",
        "colab": {
          "base_uri": "https://localhost:8080/",
          "height": 34
        }
      },
      "source": [
        "#Creating numpy array from tensor\n",
        "np_array2=tensor.numpy()\n",
        "np_array2"
      ],
      "execution_count": null,
      "outputs": [
        {
          "output_type": "execute_result",
          "data": {
            "text/plain": [
              "array([1, 2, 3])"
            ]
          },
          "metadata": {
            "tags": []
          },
          "execution_count": 12
        }
      ]
    },
    {
      "cell_type": "code",
      "metadata": {
        "id": "3ySuk_h1Eyf3",
        "outputId": "a4ec1579-6efc-498b-c9fa-28c1bf18b61c",
        "colab": {
          "base_uri": "https://localhost:8080/",
          "height": 34
        }
      },
      "source": [
        "#Both numpy and tensor share the same memory.\n",
        "np_array2[1]=9\n",
        "tensor"
      ],
      "execution_count": null,
      "outputs": [
        {
          "output_type": "execute_result",
          "data": {
            "text/plain": [
              "tensor([1, 9, 3])"
            ]
          },
          "metadata": {
            "tags": []
          },
          "execution_count": 13
        }
      ]
    },
    {
      "cell_type": "code",
      "metadata": {
        "id": "9ColqIckEydz",
        "outputId": "d5df4ea7-2921-4525-a8dd-d8a5a2351b42",
        "colab": {
          "base_uri": "https://localhost:8080/",
          "height": 119
        }
      },
      "source": [
        "#Splicing\n",
        "tensor=torch.rand(3,4)\n",
        "print(tensor)\n",
        "print(tensor[:,1:])"
      ],
      "execution_count": null,
      "outputs": [
        {
          "output_type": "stream",
          "text": [
            "tensor([[0.1706, 0.3983, 0.8053, 0.4549],\n",
            "        [0.2672, 0.5414, 0.4370, 0.5227],\n",
            "        [0.3114, 0.4947, 0.0767, 0.9618]])\n",
            "tensor([[0.3983, 0.8053, 0.4549],\n",
            "        [0.5414, 0.4370, 0.5227],\n",
            "        [0.4947, 0.0767, 0.9618]])\n"
          ],
          "name": "stdout"
        }
      ]
    },
    {
      "cell_type": "code",
      "metadata": {
        "id": "wmT6UTo1Eya2",
        "outputId": "48b6858b-21ed-429d-b3e7-a38c085a46e4",
        "colab": {
          "base_uri": "https://localhost:8080/",
          "height": 34
        }
      },
      "source": [
        "#Size\n",
        "tensor.size()"
      ],
      "execution_count": null,
      "outputs": [
        {
          "output_type": "execute_result",
          "data": {
            "text/plain": [
              "torch.Size([3, 4])"
            ]
          },
          "metadata": {
            "tags": []
          },
          "execution_count": 25
        }
      ]
    },
    {
      "cell_type": "code",
      "metadata": {
        "id": "HqlTDnyrEyUU",
        "outputId": "d2010927-1599-4aa5-df53-115d8c0863b7",
        "colab": {
          "base_uri": "https://localhost:8080/",
          "height": 51
        }
      },
      "source": [
        "#Resize tensor\n",
        "new_tensor=tensor.view(12)\n",
        "new_tensor"
      ],
      "execution_count": null,
      "outputs": [
        {
          "output_type": "execute_result",
          "data": {
            "text/plain": [
              "tensor([0.1706, 0.3983, 0.8053, 0.4549, 0.2672, 0.5414, 0.4370, 0.5227, 0.3114,\n",
              "        0.4947, 0.0767, 0.9618])"
            ]
          },
          "metadata": {
            "tags": []
          },
          "execution_count": 26
        }
      ]
    },
    {
      "cell_type": "code",
      "metadata": {
        "id": "X9UisFqMEyRU",
        "outputId": "87c23e0e-f4b8-41cf-9ea6-009a0d99425e",
        "colab": {
          "base_uri": "https://localhost:8080/",
          "height": 85
        }
      },
      "source": [
        "#If data is changed in original tensor, data in view also changes\n",
        "new_tensor2=tensor.view(4,3)\n",
        "new_tensor2"
      ],
      "execution_count": null,
      "outputs": [
        {
          "output_type": "execute_result",
          "data": {
            "text/plain": [
              "tensor([[0.1706, 0.3983, 0.8053],\n",
              "        [0.4549, 0.2672, 0.5414],\n",
              "        [0.4370, 0.5227, 0.3114],\n",
              "        [0.4947, 0.0767, 0.9618]])"
            ]
          },
          "metadata": {
            "tags": []
          },
          "execution_count": 27
        }
      ]
    },
    {
      "cell_type": "code",
      "metadata": {
        "id": "0Ahvwi8uMamd",
        "outputId": "e6dde440-f543-4e5a-c895-924013e6f779",
        "colab": {
          "base_uri": "https://localhost:8080/",
          "height": 68
        }
      },
      "source": [
        "new_tensor3=tensor.view(-1,4)\n",
        "new_tensor3"
      ],
      "execution_count": null,
      "outputs": [
        {
          "output_type": "execute_result",
          "data": {
            "text/plain": [
              "tensor([[0.1706, 0.3983, 0.8053, 0.4549],\n",
              "        [0.2672, 0.5414, 0.4370, 0.5227],\n",
              "        [0.3114, 0.4947, 0.0767, 0.9618]])"
            ]
          },
          "metadata": {
            "tags": []
          },
          "execution_count": 30
        }
      ]
    },
    {
      "cell_type": "code",
      "metadata": {
        "id": "sikrg4xfMW1x",
        "outputId": "6b907c68-4cdc-4aa5-e2ac-ff7ce884181d",
        "colab": {
          "base_uri": "https://localhost:8080/",
          "height": 85
        }
      },
      "source": [
        "tensor_sort, indices=torch.sort(new_tensor2)\n",
        "tensor_sort"
      ],
      "execution_count": null,
      "outputs": [
        {
          "output_type": "execute_result",
          "data": {
            "text/plain": [
              "tensor([[0.1706, 0.3983, 0.8053],\n",
              "        [0.2672, 0.4549, 0.5414],\n",
              "        [0.3114, 0.4370, 0.5227],\n",
              "        [0.0767, 0.4947, 0.9618]])"
            ]
          },
          "metadata": {
            "tags": []
          },
          "execution_count": 32
        }
      ]
    },
    {
      "cell_type": "code",
      "metadata": {
        "id": "YPxGc8bwMW_q"
      },
      "source": [
        ""
      ],
      "execution_count": null,
      "outputs": []
    },
    {
      "cell_type": "markdown",
      "metadata": {
        "id": "4lX44Pd6rbvh"
      },
      "source": [
        "# **Computation Graph in PyTorch**"
      ]
    },
    {
      "cell_type": "code",
      "metadata": {
        "id": "m00SfLTQMW8X"
      },
      "source": [
        "#In tensorflow, it is define and run while in Torch, it allows to define. build and run at the same time i.e dynamically"
      ],
      "execution_count": null,
      "outputs": []
    }
  ]
}