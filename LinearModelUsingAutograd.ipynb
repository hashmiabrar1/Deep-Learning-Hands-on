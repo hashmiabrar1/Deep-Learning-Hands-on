{
  "nbformat": 4,
  "nbformat_minor": 0,
  "metadata": {
    "colab": {
      "name": "LinearModelUsingAutograd",
      "provenance": [],
      "authorship_tag": "ABX9TyOBkWggarddyrF/gA+b/NI1",
      "include_colab_link": true
    },
    "kernelspec": {
      "name": "python3",
      "display_name": "Python 3"
    }
  },
  "cells": [
    {
      "cell_type": "markdown",
      "metadata": {
        "id": "view-in-github",
        "colab_type": "text"
      },
      "source": [
        "<a href=\"https://colab.research.google.com/github/hashmiabrar1/Deep-Learning-Hands-on/blob/main/LinearModelUsingAutograd.ipynb\" target=\"_parent\"><img src=\"https://colab.research.google.com/assets/colab-badge.svg\" alt=\"Open In Colab\"/></a>"
      ]
    },
    {
      "cell_type": "code",
      "metadata": {
        "id": "zf4bqMrsSTgR"
      },
      "source": [
        "#Constructing a single layer NN with RELU activation to construct a simple linear model.\n",
        "import numpy as np\n",
        "import matplotlib.pyplot as plt"
      ],
      "execution_count": null,
      "outputs": []
    },
    {
      "cell_type": "code",
      "metadata": {
        "id": "nlxJ0X1mTb-f",
        "outputId": "1aca1b11-9665-40a5-a95f-876dfd2c3a39",
        "colab": {
          "base_uri": "https://localhost:8080/",
          "height": 493
        }
      },
      "source": [
        "#Linear Regression\n",
        "x_train=np.array([[3.3],[4.4],[2.2],[6.71],[8.98],[5.56],[6.21],[2.167],[3.1],[7.997],[5.313],[10.791],[4.168],[6.86]])\n",
        "y_train=np.array([[1.76],[2.4],[2.09],[3.71],[1.221],[2.287],[3.465],[2.967],[3.1],[2.827],[1.65],[1.791],[1.3],[1.573]])\n",
        "print(x_train)\n",
        "print(y_train)"
      ],
      "execution_count": null,
      "outputs": [
        {
          "output_type": "stream",
          "text": [
            "[[ 3.3  ]\n",
            " [ 4.4  ]\n",
            " [ 2.2  ]\n",
            " [ 6.71 ]\n",
            " [ 8.98 ]\n",
            " [ 5.56 ]\n",
            " [ 6.21 ]\n",
            " [ 2.167]\n",
            " [ 3.1  ]\n",
            " [ 7.997]\n",
            " [ 5.313]\n",
            " [10.791]\n",
            " [ 4.168]\n",
            " [ 6.86 ]]\n",
            "[[1.76 ]\n",
            " [2.4  ]\n",
            " [2.09 ]\n",
            " [3.71 ]\n",
            " [1.221]\n",
            " [2.287]\n",
            " [3.465]\n",
            " [2.967]\n",
            " [3.1  ]\n",
            " [2.827]\n",
            " [1.65 ]\n",
            " [1.791]\n",
            " [1.3  ]\n",
            " [1.573]]\n"
          ],
          "name": "stdout"
        }
      ]
    },
    {
      "cell_type": "code",
      "metadata": {
        "id": "sSZF6-22TcFH",
        "outputId": "5ad5424d-3df3-463f-d8ba-699eed4678f0",
        "colab": {
          "base_uri": "https://localhost:8080/",
          "height": 265
        }
      },
      "source": [
        "plt.plot(x_train, y_train, 'ro', label='Original data')\n",
        "plt.show()"
      ],
      "execution_count": null,
      "outputs": [
        {
          "output_type": "display_data",
          "data": {
            "image/png": "[encoded data removed]",
            "text/plain": [
              "<Figure size 432x288 with 1 Axes>"
            ]
          },
          "metadata": {
            "tags": [],
            "needs_background": "light"
          }
        }
      ]
    },
    {
      "cell_type": "code",
      "metadata": {
        "id": "TxsBFVymTcR3",
        "outputId": "9ba3db57-06a5-4ea6-c9fd-dca9d2017832",
        "colab": {
          "base_uri": "https://localhost:8080/",
          "height": 51
        }
      },
      "source": [
        "#Convert to tensors\n",
        "import torch\n",
        "X_train=(torch.from_numpy(x_train)).type(torch.FloatTensor)\n",
        "Y_train=(torch.from_numpy(y_train)).type(torch.FloatTensor)\n",
        "print('requires_grad for X_train: ', X_train.requires_grad)\n",
        "print('requires_grad for Y_train: ', Y_train.requires_grad)\n",
        "#requires_grad will only be true for x_train."
      ],
      "execution_count": null,
      "outputs": [
        {
          "output_type": "stream",
          "text": [
            "requires_grad for X_train:  False\n",
            "requires_grad for Y_train:  False\n"
          ],
          "name": "stdout"
        }
      ]
    },
    {
      "cell_type": "code",
      "metadata": {
        "id": "pPwqsat7TcOx"
      },
      "source": [
        "#A single layer with 100 neurons declared\n",
        "input_size=1\n",
        "hidden_size=100\n",
        "output_size=1\n",
        "learning_rate=float(1e-6)\n",
        "\n",
        "#After one round/epoch we update parms with learning_rate"
      ],
      "execution_count": null,
      "outputs": []
    },
    {
      "cell_type": "code",
      "metadata": {
        "id": "M2AbnrYzTcLo",
        "outputId": "2e36f4d5-b472-491b-d29c-0c6e4f82d664",
        "colab": {
          "base_uri": "https://localhost:8080/",
          "height": 34
        }
      },
      "source": [
        "#Declaring weights\n",
        "w1=torch.rand(input_size, hidden_size, requires_grad=True).type(torch.FloatTensor)\n",
        "w1.shape"
      ],
      "execution_count": null,
      "outputs": [
        {
          "output_type": "execute_result",
          "data": {
            "text/plain": [
              "torch.Size([1, 100])"
            ]
          },
          "metadata": {
            "tags": []
          },
          "execution_count": 70
        }
      ]
    },
    {
      "cell_type": "code",
      "metadata": {
        "id": "BUnGr79e4tye",
        "outputId": "4f0eeb8b-bc93-4ff4-9624-01e61f447467",
        "colab": {
          "base_uri": "https://localhost:8080/",
          "height": 34
        }
      },
      "source": [
        "w2=torch.rand(hidden_size, output_size, requires_grad=True ).type(torch.FloatTensor)\n",
        "w2.shape"
      ],
      "execution_count": null,
      "outputs": [
        {
          "output_type": "execute_result",
          "data": {
            "text/plain": [
              "torch.Size([100, 1])"
            ]
          },
          "metadata": {
            "tags": []
          },
          "execution_count": 71
        }
      ]
    },
    {
      "cell_type": "code",
      "metadata": {
        "id": "PR9NPQ2L4t3Y",
        "outputId": "dcf63593-a42a-432e-c3be-b0b450662561",
        "colab": {
          "base_uri": "https://localhost:8080/",
          "height": 119
        }
      },
      "source": [
        "#We run it for 300 iterations\n",
        "for iter in range(1,301):\n",
        "  y_pred=X_train.mm(w1).clamp(min=0).mm(w2)           #Doing matrix multiplication and clamp negative nos to 0 with RELU activation then mm with w2.\n",
        "  loss=(y_pred - Y_train ).pow(2).sum()              #Mean Square Error\n",
        "  \n",
        "  if(iter%50==0):\n",
        "    print(iter, loss.item())\n",
        "  loss.backward() #Backward Propagation to calculate gradients. Uses autograd. All wt computations are been tracked by params having requires_grad as True\n",
        "  with torch.no_grad():     #Turning off autograd history tracking\n",
        "    w1-=learning_rate*w1.grad\n",
        "    w2-=learning_rate*w2.grad\n",
        "    w1.grad.zero_()       #Making w1 gradient back to zero so as to be used for next pass/epoch\n",
        "    w2.grad.zero_()\n",
        "\n",
        "#Observe below reducing loss"
      ],
      "execution_count": null,
      "outputs": [
        {
          "output_type": "stream",
          "text": [
            "50 4011.09716796875\n",
            "100 170.583984375\n",
            "150 30.165237426757812\n",
            "200 24.02964210510254\n",
            "250 23.73335838317871\n",
            "300 23.718994140625\n"
          ],
          "name": "stdout"
        }
      ]
    },
    {
      "cell_type": "code",
      "metadata": {
        "id": "K7VEjCn5k9zy",
        "outputId": "ae529224-59ea-40a0-93a0-64a9604c124a",
        "colab": {
          "base_uri": "https://localhost:8080/",
          "height": 1000
        }
      },
      "source": [
        "#Final weights of our model with 100 neurons\n",
        "print('w1',w1)\n",
        "print('w2',w2)\n"
      ],
      "execution_count": null,
      "outputs": [
        {
          "output_type": "stream",
          "text": [
            "w1 tensor([[ 7.5377e-01,  2.9399e-01,  4.1612e-01, -2.7152e-03,  5.9207e-02,\n",
            "         -2.1662e-03,  5.5422e-01,  6.8936e-01,  6.3333e-01,  2.0618e-01,\n",
            "         -1.3003e-03,  2.7530e-01,  7.5725e-01, -3.8964e-05,  2.7834e-02,\n",
            "         -8.8192e-03, -1.5704e-02,  1.6896e-01,  6.7339e-01,  5.7733e-01,\n",
            "          8.5629e-01,  1.2687e-01,  5.6437e-01,  3.0933e-01,  9.1877e-02,\n",
            "          7.1928e-01, -1.6499e-02,  1.5283e-01,  3.3028e-01,  9.2654e-02,\n",
            "         -7.7444e-04,  3.9691e-01,  3.3000e-01,  2.7242e-01,  2.2430e-01,\n",
            "          6.8900e-01, -1.5232e-04,  3.5779e-01,  2.9930e-01, -6.3091e-04,\n",
            "          2.1116e-01,  7.4970e-01, -9.1482e-04,  3.5192e-01, -2.8909e-04,\n",
            "          9.7385e-01, -5.8161e-03,  3.6770e-01,  2.2131e-01, -2.6820e-03,\n",
            "         -1.2733e-02, -7.0580e-03,  1.4454e-01,  7.8291e-01, -3.5562e-03,\n",
            "          6.1923e-02,  6.1619e-01,  1.8306e-01,  2.1645e-01,  2.5626e-01,\n",
            "          4.6973e-01,  9.1630e-01,  3.1724e-01,  2.5259e-01,  3.4224e-01,\n",
            "          9.8700e-01, -1.3731e-03,  3.1357e-01,  7.1462e-01,  6.2983e-01,\n",
            "          1.8375e-01,  6.0380e-01,  4.0849e-01,  2.0953e-01, -3.7202e-03,\n",
            "          8.2030e-01,  6.6226e-01,  4.4305e-02,  9.5418e-01,  3.0982e-01,\n",
            "          7.9866e-02,  9.9044e-01,  1.7566e-01, -5.7437e-04, -1.4704e-05,\n",
            "          9.9198e-01, -8.5534e-05,  4.4823e-01,  4.0580e-01,  6.4760e-01,\n",
            "          5.2197e-01,  1.5326e-01,  1.1387e-01,  7.7848e-01,  6.3820e-01,\n",
            "          5.4957e-01,  4.7749e-01, -4.0128e-04,  1.2740e-04, -2.2058e-03]],\n",
            "       requires_grad=True)\n",
            "w2 tensor([[-0.1782],\n",
            "        [ 0.2017],\n",
            "        [-0.0727],\n",
            "        [ 0.8382],\n",
            "        [ 0.3899],\n",
            "        [ 0.7888],\n",
            "        [-0.2525],\n",
            "        [-0.3055],\n",
            "        [ 0.2035],\n",
            "        [ 0.7492],\n",
            "        [ 0.5319],\n",
            "        [ 0.1094],\n",
            "        [ 0.0709],\n",
            "        [ 0.6098],\n",
            "        [ 0.2435],\n",
            "        [ 0.5891],\n",
            "        [ 0.8055],\n",
            "        [ 0.4849],\n",
            "        [-0.0972],\n",
            "        [ 0.2833],\n",
            "        [-0.3259],\n",
            "        [ 0.6658],\n",
            "        [ 0.4784],\n",
            "        [ 0.4840],\n",
            "        [ 0.4828],\n",
            "        [ 0.0554],\n",
            "        [ 0.8332],\n",
            "        [ 0.5128],\n",
            "        [ 0.3724],\n",
            "        [ 0.1107],\n",
            "        [ 0.2920],\n",
            "        [ 0.0722],\n",
            "        [ 0.0182],\n",
            "        [ 0.1736],\n",
            "        [ 0.3671],\n",
            "        [-0.1608],\n",
            "        [ 0.4744],\n",
            "        [ 0.2416],\n",
            "        [ 0.0681],\n",
            "        [ 0.7590],\n",
            "        [ 0.6466],\n",
            "        [-0.2209],\n",
            "        [ 0.6895],\n",
            "        [ 0.2158],\n",
            "        [ 0.7404],\n",
            "        [-0.2204],\n",
            "        [ 0.8280],\n",
            "        [-0.0354],\n",
            "        [ 0.7119],\n",
            "        [ 0.8945],\n",
            "        [ 0.8615],\n",
            "        [ 0.9025],\n",
            "        [ 0.0152],\n",
            "        [ 0.0085],\n",
            "        [ 0.9151],\n",
            "        [ 0.5871],\n",
            "        [-0.2932],\n",
            "        [ 0.2767],\n",
            "        [ 0.5406],\n",
            "        [ 0.5396],\n",
            "        [ 0.4738],\n",
            "        [-0.3123],\n",
            "        [ 0.0096],\n",
            "        [-0.0632],\n",
            "        [ 0.1689],\n",
            "        [-0.4252],\n",
            "        [ 0.5954],\n",
            "        [ 0.0732],\n",
            "        [ 0.1149],\n",
            "        [ 0.1708],\n",
            "        [ 0.6070],\n",
            "        [ 0.1135],\n",
            "        [ 0.0013],\n",
            "        [ 0.6565],\n",
            "        [ 0.8941],\n",
            "        [ 0.0752],\n",
            "        [-0.0494],\n",
            "        [ 0.5162],\n",
            "        [-0.3031],\n",
            "        [-0.0569],\n",
            "        [ 0.6016],\n",
            "        [-0.2880],\n",
            "        [-0.0431],\n",
            "        [ 0.4255],\n",
            "        [ 0.7855],\n",
            "        [-0.2863],\n",
            "        [ 0.8571],\n",
            "        [ 0.4802],\n",
            "        [-0.1899],\n",
            "        [-0.0685],\n",
            "        [-0.0961],\n",
            "        [ 0.0555],\n",
            "        [ 0.6653],\n",
            "        [ 0.0379],\n",
            "        [-0.2711],\n",
            "        [-0.0233],\n",
            "        [ 0.2246],\n",
            "        [ 0.2831],\n",
            "        [ 0.1637],\n",
            "        [ 0.9466]], requires_grad=True)\n"
          ],
          "name": "stdout"
        }
      ]
    },
    {
      "cell_type": "code",
      "metadata": {
        "id": "zwgc6lkuk-EW",
        "outputId": "8c450024-093e-42f7-c2c1-dd62d8e9b086",
        "colab": {
          "base_uri": "https://localhost:8080/",
          "height": 255
        }
      },
      "source": [
        "#Final predicted values\n",
        "x_train_tensor=torch.from_numpy(x_train).type(torch.FloatTensor)\n",
        "x_train_tensor"
      ],
      "execution_count": null,
      "outputs": [
        {
          "output_type": "execute_result",
          "data": {
            "text/plain": [
              "tensor([[ 3.3000],\n",
              "        [ 4.4000],\n",
              "        [ 2.2000],\n",
              "        [ 6.7100],\n",
              "        [ 8.9800],\n",
              "        [ 5.5600],\n",
              "        [ 6.2100],\n",
              "        [ 2.1670],\n",
              "        [ 3.1000],\n",
              "        [ 7.9970],\n",
              "        [ 5.3130],\n",
              "        [10.7910],\n",
              "        [ 4.1680],\n",
              "        [ 6.8600]])"
            ]
          },
          "metadata": {
            "tags": []
          },
          "execution_count": 76
        }
      ]
    },
    {
      "cell_type": "code",
      "metadata": {
        "id": "nI8qDnFoyEwm",
        "outputId": "a4a412d4-13e4-4638-90e9-3cfe0f3eeeaf",
        "colab": {
          "base_uri": "https://localhost:8080/",
          "height": 255
        }
      },
      "source": [
        "#Using the trained weights and x inputs.\n",
        "predicted=x_train_tensor.mm(w1).clamp(min=0).mm(w2)\n",
        "predicted"
      ],
      "execution_count": null,
      "outputs": [
        {
          "output_type": "execute_result",
          "data": {
            "text/plain": [
              "tensor([[1.1132],\n",
              "        [1.4843],\n",
              "        [0.7421],\n",
              "        [2.2635],\n",
              "        [3.0293],\n",
              "        [1.8756],\n",
              "        [2.0949],\n",
              "        [0.7310],\n",
              "        [1.0457],\n",
              "        [2.6977],\n",
              "        [1.7923],\n",
              "        [3.6402],\n",
              "        [1.4060],\n",
              "        [2.3141]], grad_fn=<MmBackward>)"
            ]
          },
          "metadata": {
            "tags": []
          },
          "execution_count": 77
        }
      ]
    },
    {
      "cell_type": "code",
      "metadata": {
        "id": "83oSXU5Ik-TN"
      },
      "source": [
        "predicted_numpy_array=predicted.detach().numpy()"
      ],
      "execution_count": null,
      "outputs": []
    },
    {
      "cell_type": "code",
      "metadata": {
        "id": "-IjX3bZCCYC8",
        "outputId": "f7ea2b64-78bc-4fe5-ae50-38b651e28aca",
        "colab": {
          "base_uri": "https://localhost:8080/",
          "height": 265
        }
      },
      "source": [
        "plt.plot(x_train, y_train,  'ro', label='Original data')\n",
        "plt.plot(x_train, predicted_numpy_array, label='Fitted line')\n",
        "plt.legend()\n",
        "plt.show()\n",
        "\n",
        "#The prediction is a straight line which is the best possible points."
      ],
      "execution_count": null,
      "outputs": [
        {
          "output_type": "display_data",
          "data": {
            "image/png": "[encoded data removed]",
            "text/plain": [
              "<Figure size 432x288 with 1 Axes>"
            ]
          },
          "metadata": {
            "tags": [],
            "needs_background": "light"
          }
        }
      ]
    },
    {
      "cell_type": "code",
      "metadata": {
        "id": "ub6vPwYCCX_j"
      },
      "source": [
        ""
      ],
      "execution_count": null,
      "outputs": []
    }
  ]
}